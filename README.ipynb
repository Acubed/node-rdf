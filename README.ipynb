{
 "cells": [
  {
   "cell_type": "markdown",
   "metadata": {},
   "source": [
    "# RDF Interfaces implementation\n",
    "\n",
    "This package is a set of simple utilities aimed at making it simple to represent RDF data.\n",
    "\n",
    "RDF can be considered a superset of typical link relationships found on the Web: It allows a collection of directional relationships from some _subject_, with a relationship _predicate_, to some _object_.\n",
    "\n",
    "On the Web, normally all three are documents. In RDF, the object may also be a literal string containing data; and the subject or object may be an anonymous resource called a _blank node_.\n",
    "\n",
    "The `NamedNode`, `BlankNode`, and `Literal` objects represent the fundemental types of data that can be found in an RDF Statement. Statements are represented as `Triple`.\n",
    "\n",
    "RDF doesn't define any representation of a blank nodes, except for the fact it is possible to compare two blank nodes to see if they are the same. In RDF Interfaces, a bnode is uniquely represented as an instance of `BlankNode`. This interface optionally allows a label, this is primarially for debugging, and two instances of BlankNodes with the same label may still represent different blank nodes.\n",
    "\n",
    "The library also exposes a function to decorate the builtin ECMAScript protoypes with methods.\n",
    "\n",
    "## Features\n",
    "\n",
    "### Represent RDF nodes\n",
    "\n",
    "The `NamedNode`, `BlankNode`, and `Literal` represent nodes in an RDF graph."
   ]
  },
  {
   "cell_type": "code",
   "execution_count": 1,
   "metadata": {},
   "outputs": [
    {
     "data": {
      "text/plain": [
       "'<http://example.com/>'"
      ]
     },
     "execution_count": 1,
     "metadata": {},
     "output_type": "execute_result"
    }
   ],
   "source": [
    "var rdf = require('rdf');\n",
    "var createNamedNode = rdf.environment.createNamedNode.bind(rdf.environment);\n",
    "var createBlankNode = rdf.environment.createBlankNode.bind(rdf.environment);\n",
    "var createLiteral = rdf.environment.createLiteral.bind(rdf.environment);\n",
    "\n",
    "var namednode = createNamedNode('http://example.com/');\n",
    "namednode.toNT()"
   ]
  },
  {
   "cell_type": "code",
   "execution_count": 2,
   "metadata": {},
   "outputs": [
    {
     "data": {
      "text/plain": [
       "'_:b1'"
      ]
     },
     "execution_count": 2,
     "metadata": {},
     "output_type": "execute_result"
    }
   ],
   "source": [
    "var blanknode = rdf.environment.createBlankNode();\n",
    "blanknode.toNT()"
   ]
  },
  {
   "cell_type": "code",
   "execution_count": 3,
   "metadata": {},
   "outputs": [
    {
     "data": {
      "text/plain": [
       "'\"plain string\"'"
      ]
     },
     "execution_count": 3,
     "metadata": {},
     "output_type": "execute_result"
    }
   ],
   "source": [
    "var literal = rdf.environment.createLiteral('plain string')\n",
    "literal.toNT()\n"
   ]
  },
  {
   "cell_type": "code",
   "execution_count": 4,
   "metadata": {},
   "outputs": [
    {
     "data": {
      "text/plain": [
       "false"
      ]
     },
     "execution_count": 4,
     "metadata": {},
     "output_type": "execute_result"
    }
   ],
   "source": [
    "namednode.equals(literal)"
   ]
  },
  {
   "cell_type": "markdown",
   "metadata": {},
   "source": [
    "### Represent RDF statements\n",
    "\n",
    "A `Triple` instance represents an edge in an RDF graph (also known as a Statement)."
   ]
  },
  {
   "cell_type": "code",
   "execution_count": 5,
   "metadata": {},
   "outputs": [
    {
     "data": {
      "text/plain": [
       "'_:b1 <http://example.com/> \"plain string\" .'"
      ]
     },
     "execution_count": 5,
     "metadata": {},
     "output_type": "execute_result"
    }
   ],
   "source": [
    "var statement1 = rdf.environment.createTriple(blanknode, namednode, literal);\n",
    "statement1.toString()"
   ]
  },
  {
   "cell_type": "markdown",
   "metadata": {},
   "source": [
    "### Represent RDF graphs\n",
    "\n",
    "A `Graph` instance stores and queries."
   ]
  },
  {
   "cell_type": "code",
   "execution_count": 6,
   "metadata": {},
   "outputs": [
    {
     "data": {
      "text/plain": [
       "3"
      ]
     },
     "execution_count": 6,
     "metadata": {},
     "output_type": "execute_result"
    }
   ],
   "source": [
    "var graph = rdf.environment.createGraph();\n",
    "graph.add(statement1);\n",
    "graph.add(rdf.environment.createTriple(\n",
    "\tblanknode,\n",
    "\trdf.environment.createNamedNode(rdf.rdfsns('label')),\n",
    "\trdf.environment.createLiteral('Price'))\n",
    "\t);\n",
    "graph.add(rdf.environment.createTriple(\n",
    "\tblanknode,\n",
    "\trdf.environment.createNamedNode(rdf.rdfns('value')),\n",
    "\trdf.environment.createLiteral('10.0', rdf.xsdns('decimal')))\n",
    "\t);\n",
    "graph.length"
   ]
  },
  {
   "cell_type": "code",
   "execution_count": 7,
   "metadata": {},
   "outputs": [
    {
     "data": {
      "text/plain": [
       "3"
      ]
     },
     "execution_count": 7,
     "metadata": {},
     "output_type": "execute_result"
    }
   ],
   "source": [
    "var results = graph.match(blanknode, null, null);\n",
    "results.length"
   ]
  },
  {
   "cell_type": "code",
   "execution_count": 8,
   "metadata": {},
   "outputs": [
    {
     "name": "stdout",
     "output_type": "stream",
     "text": [
      "_:b1 <http://example.com/> \"plain string\" .\n",
      "_:b1 <http://www.w3.org/2000/01/rdf-schema#label> \"Price\" .\n",
      "_:b1 <http://www.w3.org/1999/02/22-rdf-syntax-ns#value> \"10.0\"^^<http://www.w3.org/2001/XMLSchema#decimal> .\n"
     ]
    }
   ],
   "source": [
    "results.forEach(function(triple){ console.log(triple.toString()); });"
   ]
  },
  {
   "cell_type": "markdown",
   "metadata": {},
   "source": [
    "### Compare nodes, triples, and graphs for equality\n",
    "\n",
    "Use the `NamedNode#equals`, `BlankNode#equals`, `Literal#equals`, `Triple#equals`, and `Graph#equals` methods to compare equality.\n",
    "\n",
    "Literals verify codepoint, datatype, and language tag equality. Triples verify equality of each three nodes.\n",
    "\n",
    "Graphs test for isomorphism, that there's a mapping that can map the blank nodes in one graph to the blank nodes in the other one-to-one. If so isomorphic, it returns the mapping."
   ]
  },
  {
   "cell_type": "code",
   "execution_count": 9,
   "metadata": {},
   "outputs": [
    {
     "data": {
      "text/plain": [
       "{ '_:b1': BlankNode { nominalValue: 'b1' } }"
      ]
     },
     "execution_count": 9,
     "metadata": {},
     "output_type": "execute_result"
    }
   ],
   "source": [
    "var graph2 = rdf.environment.createGraph();\n",
    "graph2.add(statement1);\n",
    "graph2.add(rdf.environment.createTriple(\n",
    "\tblanknode,\n",
    "\trdf.environment.createNamedNode(rdf.rdfsns('label')),\n",
    "\trdf.environment.createLiteral('Price'))\n",
    "\t);\n",
    "graph2.add(rdf.environment.createTriple(\n",
    "\tblanknode,\n",
    "\trdf.environment.createNamedNode(rdf.rdfns('value')),\n",
    "\trdf.environment.createLiteral('10.0', rdf.xsdns('decimal')))\n",
    "\t);\n",
    "graph.equals(graph2)"
   ]
  },
  {
   "cell_type": "markdown",
   "metadata": {},
   "source": [
    "### Simplify RDF namespaces\n",
    "\n",
    "Use the `ns` function to create a URI factory.\n",
    "\n",
    "Use the builtin `rdfns`, `rdfsns`, and `xsdns` functions too."
   ]
  },
  {
   "cell_type": "code",
   "execution_count": 10,
   "metadata": {},
   "outputs": [
    {
     "data": {
      "text/plain": [
       "'http://xmlns.com/foaf/0.1/knows'"
      ]
     },
     "execution_count": 10,
     "metadata": {},
     "output_type": "execute_result"
    }
   ],
   "source": [
    "var foaf = rdf.ns('http://xmlns.com/foaf/0.1/');\n",
    "foaf('knows')"
   ]
  },
  {
   "cell_type": "code",
   "execution_count": 11,
   "metadata": {},
   "outputs": [
    {
     "data": {
      "text/plain": [
       "'http://www.w3.org/2000/01/rdf-schema#label'"
      ]
     },
     "execution_count": 11,
     "metadata": {},
     "output_type": "execute_result"
    }
   ],
   "source": [
    "rdf.rdfsns('label')"
   ]
  },
  {
   "cell_type": "markdown",
   "metadata": {},
   "source": [
    "### Query information from RDF sources\n",
    "\n",
    "Use the ResultSet interface to quickly drill into the specific data you want:"
   ]
  },
  {
   "cell_type": "code",
   "execution_count": 12,
   "metadata": {},
   "outputs": [
    {
     "data": {
      "text/plain": [
       "'Alice'"
      ]
     },
     "execution_count": 12,
     "metadata": {},
     "output_type": "execute_result"
    }
   ],
   "source": [
    "function person_(n){ return rdf.environment.createNamedNode('http://example.com/~'.concat(n)); }\n",
    "function foaf_(n){ return rdf.environment.createNamedNode('http://xmlns.com/foaf/0.1/'.concat(n)); }\n",
    "var g = rdf.environment.createGraph();\n",
    "g.add(rdf.environment.createTriple(person_('a'), foaf_('knows'), person_('b')));\n",
    "g.add(rdf.environment.createTriple(person_('a'), foaf_('knows'), person_('c')));\n",
    "g.add(rdf.environment.createTriple(person_('a'), foaf_('knows'), person_('d')));\n",
    "g.add(rdf.environment.createTriple(person_('a'), foaf_('givenname'), rdf.environment.createLiteral('Alice')));\n",
    "g.add(rdf.environment.createTriple(person_('b'), foaf_('givenname'), rdf.environment.createLiteral('Bob')));\n",
    "g.add(rdf.environment.createTriple(person_('c'), foaf_('givenname'), rdf.environment.createLiteral('Carol')));\n",
    "g.add(rdf.environment.createTriple(person_('d'), foaf_('givenname'), rdf.environment.createLiteral('Dan')));\n",
    "\n",
    "// Get the name of Alice\n",
    "var aliceName = g.reference(person_('a'))\n",
    "\t.rel(rdf.environment.createNamedNode(foaf('givenname')))\n",
    "\t.one()\n",
    "\t.toString();\n",
    "aliceName"
   ]
  },
  {
   "cell_type": "code",
   "execution_count": 13,
   "metadata": {},
   "outputs": [
    {
     "data": {
      "text/plain": [
       "'Bob, Carol, Dan'"
      ]
     },
     "execution_count": 13,
     "metadata": {},
     "output_type": "execute_result"
    }
   ],
   "source": [
    "// Get me all the names of everyone who Alice knows\n",
    "var friendNames = g.reference(person_('a'))\n",
    "\t.rel(rdf.environment.createNamedNode(foaf('knows')))\n",
    "\t.rel(rdf.environment.createNamedNode(foaf('givenname')))\n",
    "\t.toArray()\n",
    "\t.sort()\n",
    "\t.join(', ');\n",
    "\n",
    "friendNames"
   ]
  },
  {
   "cell_type": "markdown",
   "metadata": {},
   "source": [
    "### Read RDF data sources as native data types\n",
    "\n",
    "Use `Literal#valueOf` to convert from lexical data space to native value space:"
   ]
  },
  {
   "cell_type": "code",
   "execution_count": 14,
   "metadata": {},
   "outputs": [
    {
     "data": {
      "text/plain": [
       "2018-06-04T23:11:25.000Z"
      ]
     },
     "execution_count": 14,
     "metadata": {},
     "output_type": "execute_result"
    }
   ],
   "source": [
    "rdf.environment.createLiteral('2018-06-04T23:11:25Z', rdf.xsdns('date')).valueOf()"
   ]
  },
  {
   "cell_type": "code",
   "execution_count": 15,
   "metadata": {},
   "outputs": [
    {
     "data": {
      "text/plain": [
       "24.44"
      ]
     },
     "execution_count": 15,
     "metadata": {},
     "output_type": "execute_result"
    }
   ],
   "source": [
    "rdf.environment.createLiteral('24.440', rdf.xsdns('decimal')).valueOf()"
   ]
  },
  {
   "cell_type": "code",
   "execution_count": 16,
   "metadata": {},
   "outputs": [
    {
     "data": {
      "text/plain": [
       "true"
      ]
     },
     "execution_count": 16,
     "metadata": {},
     "output_type": "execute_result"
    }
   ],
   "source": [
    "rdf.environment.createLiteral('1', rdf.xsdns('boolean')).valueOf()"
   ]
  },
  {
   "cell_type": "code",
   "execution_count": 17,
   "metadata": {},
   "outputs": [
    {
     "data": {
      "text/plain": [
       "138"
      ]
     },
     "execution_count": 17,
     "metadata": {},
     "output_type": "execute_result"
    }
   ],
   "source": [
    "g.add(rdf.environment.createTriple(person_('a'), foaf_('age'), rdf.environment.createLiteral('26', rdf.xsdns('integer'))));\n",
    "g.add(rdf.environment.createTriple(person_('b'), foaf_('age'), rdf.environment.createLiteral('36', rdf.xsdns('integer'))));\n",
    "g.add(rdf.environment.createTriple(person_('c'), foaf_('age'), rdf.environment.createLiteral('46', rdf.xsdns('integer'))));\n",
    "g.add(rdf.environment.createTriple(person_('d'), foaf_('age'), rdf.environment.createLiteral('56', rdf.xsdns('integer'))));\n",
    "// sum the ages of everyone that Alice knows\n",
    "var friendAge = g.reference(person_('a'))\n",
    "\t.rel(rdf.environment.createNamedNode(foaf('knows')))\n",
    "\t.rel(rdf.environment.createNamedNode(foaf('age')))\n",
    "\t.reduce(function(a, b){ return a.valueOf() + b; }, 0);\n",
    "\n",
    "friendAge"
   ]
  },
  {
   "cell_type": "markdown",
   "metadata": {},
   "source": [
    "### Compose RDF graphs as native Objects\n",
    "\n",
    "Use the `rdf.parse` function to cast a native object into a graph:"
   ]
  },
  {
   "cell_type": "code",
   "execution_count": 18,
   "metadata": {},
   "outputs": [
    {
     "name": "stdout",
     "output_type": "stream",
     "text": [
      "<http://webr3.org/#me>\n",
      "\trdf:type foaf:Person;\n",
      "\tfoaf:name \"Nathan\";\n",
      "\tfoaf:age 37;\n",
      "\tfoaf:holdsAccount [\n",
      "\t\tfoaf:label \"Nathan's twitter account\"@en;\n",
      "\t\tfoaf:accountName \"webr3\";\n",
      "\t\tfoaf:homepage <http://twitter.com/webr3>\n",
      "\t\t];\n",
      "\tfoaf:nick \"webr3\", \"nath\";\n",
      "\tfoaf:homepage <http://webr3.org/> .\n"
     ]
    }
   ],
   "source": [
    "var env = rdf.environment;\n",
    "// the @id, @context, and @vocab keywords work like in JSON-LD\n",
    "// string values are assumed to be URIs, unless decorated\n",
    "var document = rdf.parse({\n",
    "\t'@id': 'http://webr3.org/#me',\n",
    "\t'@context': {\n",
    "\t\t'@vocab': 'http://xmlns.com/foaf/0.1/',\n",
    "\t\t'dbr': 'http://dbpedia.org/resource/',\n",
    "\t\t'dbp': 'http://dbpedia.org/property/',\n",
    "\t\t'foaf': 'http://xmlns.com/foaf/0.1/',\n",
    "\t},\n",
    "\ta: 'foaf:Person', // a CURIE\n",
    "\tfoaf$name: env.createLiteral('Nathan'), // an RDF Plain Literal\n",
    "\tfoaf$age: new Date().getFullYear() - 1981, // a Number, and a Typed Literal with the type xsd:integer\n",
    "\tfoaf$holdsAccount: { // an Object, with a BlankNode reference for the .id\n",
    "\t\tlabel: rdf.environment.createLiteral(\"Nathan's twitter account\", 'en'), // a Literal\n",
    "\t\taccountName: env.createLiteral('webr3'),\n",
    "\t\thomepage: 'http://twitter.com/webr3'\n",
    "\t},\n",
    "\tfoaf$nick: [env.createLiteral('webr3'), env.createLiteral('nath')], // an Array, also a list of values, like in turtle and n3\n",
    "\tfoaf$homepage: 'http://webr3.org/', // A full IRI\n",
    "}, 'http://webr3.org/#me');\n",
    "console.log(document.n3());"
   ]
  },
  {
   "cell_type": "markdown",
   "metadata": {},
   "source": [
    "Use the `graphify` method to produce an `rdf.Graph` from the data:"
   ]
  },
  {
   "cell_type": "code",
   "execution_count": 19,
   "metadata": {},
   "outputs": [
    {
     "name": "stdout",
     "output_type": "stream",
     "text": [
      "<http://webr3.org/#me> <http://www.w3.org/1999/02/22-rdf-syntax-ns#type> <http://xmlns.com/foaf/0.1/Person> .\n",
      "<http://webr3.org/#me> <http://xmlns.com/foaf/0.1/name> \"Nathan\" .\n",
      "<http://webr3.org/#me> <http://xmlns.com/foaf/0.1/age> \"37\"^^<http://www.w3.org/2001/XMLSchema#integer> .\n",
      "<http://webr3.org/#me> <http://xmlns.com/foaf/0.1/holdsAccount> _:b3 .\n",
      "_:b3 <http://xmlns.com/foaf/0.1/label> \"Nathan's twitter account\"@en .\n",
      "_:b3 <http://xmlns.com/foaf/0.1/accountName> \"webr3\" .\n",
      "_:b3 <http://xmlns.com/foaf/0.1/homepage> <http://twitter.com/webr3> .\n",
      "<http://webr3.org/#me> <http://xmlns.com/foaf/0.1/homepage> <http://webr3.org/> .\n",
      "<http://webr3.org/#me> <http://xmlns.com/foaf/0.1/nick> \"webr3\" .\n",
      "<http://webr3.org/#me> <http://xmlns.com/foaf/0.1/nick> \"nath\" .\n"
     ]
    }
   ],
   "source": [
    "var docGraph = document.graphify();\n",
    "docGraph.forEach(function(triple){ console.log(triple.toString()); });"
   ]
  },
  {
   "cell_type": "markdown",
   "metadata": {},
   "source": [
    "### Manage documents with RDF data\n",
    "\n",
    "Use the `RDFEnvironment`, `Profile`, `TermMap`, and `ProfileMap` interfaces to work with RDF documents that think in terms of CURIEs and Terms.\n",
    "\n",
    "Here's an example to take an RDF graph, and output a Turtle document with the prefixes applied:"
   ]
  },
  {
   "cell_type": "code",
   "execution_count": 20,
   "metadata": {},
   "outputs": [
    {
     "name": "stdout",
     "output_type": "stream",
     "text": [
      "w:me rdf:type f:Person .\n",
      "w:me f:name \"Nathan\" .\n",
      "w:me f:age \"37\"^^<http://www.w3.org/2001/XMLSchema#integer> .\n",
      "w:me f:holdsAccount _:b3 .\n",
      "_:b3 f:label \"Nathan's twitter account\"@en .\n",
      "_:b3 f:accountName \"webr3\" .\n",
      "_:b3 f:homepage <http://twitter.com/webr3> .\n",
      "w:me f:homepage <http://webr3.org/> .\n",
      "w:me f:nick \"webr3\" .\n",
      "w:me f:nick \"nath\" .\n"
     ]
    }
   ],
   "source": [
    "var profile = env.createProfile();\n",
    "profile.setPrefix('rdf', rdf.rdfns(''));\n",
    "profile.setPrefix('w', 'http://webr3.org/#');\n",
    "profile.setPrefix('f', 'http://xmlns.com/foaf/0.1/');\n",
    "var turtle = docGraph.toArray().map(function(stmt){\n",
    "\treturn stmt.subject.n3(profile) + ' ' + stmt.predicate.n3(profile) + ' ' + stmt.object.n3(profile) + \" .\";\n",
    "});\n",
    "//console.log(profile.n3());\n",
    "console.log(turtle.join('\\n'));"
   ]
  },
  {
   "cell_type": "markdown",
   "metadata": {},
   "source": [
    "### Treat native data types as RDF data\n",
    "\n",
    "If you think `rdf.environment.createLiteral` is too verbose, enable builtins mode. This amends the prototype of primitives like `String`:"
   ]
  },
  {
   "cell_type": "code",
   "execution_count": 21,
   "metadata": {},
   "outputs": [
    {
     "name": "stdout",
     "output_type": "stream",
     "text": [
      "<http://example.com/>\n",
      "\"3\"^^<http://www.w3.org/2001/XMLSchema#integer>\n",
      "\"true\"^^<http://www.w3.org/2001/XMLSchema#boolean>\n",
      "\"2112-06-06T00:00:00Z\"^^<http://www.w3.org/2001/XMLSchema#dateTime>\n",
      "\"The Hobbit\"@en-GB\n",
      "\"4.0\"^^<http://www.w3.org/2001/XMLSchema#decimal>\n"
     ]
    }
   ],
   "source": [
    "rdf.setBuiltins();\n",
    "\n",
    "[\n",
    "    \"http://example.com/\".toNT(),\n",
    "    (3.0).toNT(),\n",
    "    true.toNT(),\n",
    "    new Date('2112-06-06').toNT(),\n",
    "    \"The Hobbit\".l('en-GB').toNT(),\n",
    "    \"4.0\".tl(rdf.xsdns('decimal')).toNT(),\n",
    "].forEach(function(v){ console.log(v); })\n"
   ]
  },
  {
   "cell_type": "markdown",
   "metadata": {},
   "source": [
    "If you change your mind, unset them later:"
   ]
  },
  {
   "cell_type": "code",
   "execution_count": 22,
   "metadata": {},
   "outputs": [],
   "source": [
    "rdf.unsetBuiltins();"
   ]
  },
  {
   "cell_type": "markdown",
   "metadata": {},
   "source": [
    "### Native support for RDF1.1 semantics\n",
    "\n",
    "The domains of the functions ensure constistency with all the other applications found in the RDF universe.\n",
    "\n",
    "`Literal` treats xsd:string as no datatype, and treats any language literal as rdf:langString. The RDF1.1 datatype is available through the `Literal#datatypeIRI` property."
   ]
  },
  {
   "cell_type": "code",
   "execution_count": 23,
   "metadata": {},
   "outputs": [
    {
     "name": "stdout",
     "output_type": "stream",
     "text": [
      "undefined\n",
      "'http://www.w3.org/2001/XMLSchema#string'\n",
      "undefined\n"
     ]
    }
   ],
   "source": [
    "var literal = env.createLiteral('Foo');\n",
    "console.dir(literal.datatype);\n",
    "console.dir(literal.datatypeIRI);\n",
    "console.dir(literal.language);"
   ]
  },
  {
   "cell_type": "code",
   "execution_count": 24,
   "metadata": {},
   "outputs": [
    {
     "name": "stdout",
     "output_type": "stream",
     "text": [
      "undefined\n",
      "'http://www.w3.org/1999/02/22-rdf-syntax-ns#langString'\n",
      "'en'\n"
     ]
    }
   ],
   "source": [
    "var langLiteral = env.createLiteral('Foo', '@en');\n",
    "console.dir(langLiteral.datatype);\n",
    "console.dir(langLiteral.datatypeIRI);\n",
    "console.dir(langLiteral.language);"
   ]
  },
  {
   "cell_type": "code",
   "execution_count": 25,
   "metadata": {},
   "outputs": [
    {
     "name": "stdout",
     "output_type": "stream",
     "text": [
      "undefined\n",
      "'http://www.w3.org/2001/XMLSchema#string'\n",
      "undefined\n"
     ]
    }
   ],
   "source": [
    "var typedLiteral = env.createLiteral('Foo', rdf.xsdns('string'));\n",
    "console.dir(typedLiteral.datatype);\n",
    "console.dir(typedLiteral.datatypeIRI);\n",
    "console.dir(typedLiteral.language);"
   ]
  },
  {
   "cell_type": "markdown",
   "metadata": {},
   "source": [
    "The data model is enforced in the domain of each of the functions; `Triple` doesn't allow bnodes as predicates, for example:"
   ]
  },
  {
   "cell_type": "code",
   "execution_count": 26,
   "metadata": {},
   "outputs": [
    {
     "name": "stdout",
     "output_type": "stream",
     "text": [
      "Error: predicate must be a NamedNode\n"
     ]
    }
   ],
   "source": [
    "try {\n",
    "    env.createTriple(env.createBlankNode(), env.createBlankNode(), env.createBlankNode());\n",
    "}catch(e){\n",
    "    console.log(e.toString());\n",
    "}"
   ]
  },
  {
   "cell_type": "markdown",
   "metadata": {},
   "source": [
    "### Public Domain unlicensed\n",
    "\n",
    "Use this library in whatever application you want! Give credit when you do so, or don't (but preferably the former). Use it to take over the world, or don't (but preferably the latter)."
   ]
  },
  {
   "cell_type": "markdown",
   "metadata": {},
   "source": [
    "## About\n",
    "\n",
    "An RDF Interfaces implementation in ECMAScript, primarially designed for Node.js, to implement RDF datatypes with Javascript types and provide related APIs and in-memory utilities.\n",
    "\n",
    "This implements:\n",
    "\n",
    "* http://www.w3.org/TR/2012/NOTE-rdf-interfaces-20120705/ (Working Group Note)\n",
    "* http://www.w3.org/TR/2014/REC-turtle-20140225/ (Recommendation)\n",
    "* http://www.w3.org/TR/2014/REC-n-triples-20140225/ (Recommendation)\n",
    "\n",
    "See also:\n",
    "\n",
    "* http://www.w3.org/TR/2012/NOTE-rdfa-api-20120705/ (Working Group Note)\n",
    "* http://www.w3.org/TR/2012/NOTE-rdf-api-20120705/ (Working Group Note)\n",
    "* http://www.w3.org/TR/2014/NOTE-rdf11-primer-20140225/ (Working Group Note)\n",
    "\n",
    "Implementation largely adapted from webr3's js3, rdfa-api, and rdf-api implementations:\n",
    "\n",
    "* https://github.com/webr3/rdfa-api\n",
    "* https://github.com/webr3/js3\n",
    "\n",
    "This is free and unencumbered software released into the public domain. For information, see <http://unlicense.org/>.\n",
    "\n",
    "## Usage\n",
    "\n",
    "The ultimate documentation is the source code. The lib/rdf.js file should be especially useful.\n",
    "\n",
    "### RDFNode\n",
    "\n",
    "`rdf.Triple`, `rdf.RDFNode`, `rdf.NamedNode`, `rdf.BlankNode`, `rdf.Literal` are implemented as defined under [RDF Interfaces: Basic Node Types](http://www.w3.org/TR/2011/WD-rdf-interfaces-20110510/#basic-node-types).\n",
    "\n",
    "For parsing the IRI and converting to a URI that can be used in an HTTP request, see the [IRI package](https://github.com/Acubed/node-iri).\n",
    "\n",
    "### Graph\n",
    "\n",
    "An implementation of [RDF Interfaces: Graph](http://www.w3.org/TR/2011/WD-rdf-interfaces-20110510/#idl-def-Graph) that stores triples in three indexes for fast querying.\n",
    "\n",
    "Graphs in this package are uniquely identified by their instance, and are mutable during execution. Methods with a return value are pure, methods that are mutating have no return value.\n",
    "\n",
    "#### new Graph\n",
    "\n",
    "Creates an empty in-memory RDF graph.\n",
    "\n",
    "#### Graph#add(Triple triple)\n",
    "\n",
    "Adds a triple to the Graph, if it doesn't already exist.\n",
    "\n",
    "#### Graph#remove(Triple triple)\n",
    "\n",
    "Removes the given triple from the Graph if it exists.\n",
    "\n",
    "#### Graph#removeMatches(subject, predicate, object)\n",
    "\n",
    "Removes the given triple from the Graph if it exists.\n",
    "\n",
    "#### Graph#toArray()\n",
    "\n",
    "Returns an array of Triples currently in the Graph.\n",
    "\n",
    "#### Graph#some(function callback)\n",
    "\n",
    "Same behavior as `Array#some`: Evaluates `callback` over each Triple in the Graph, and returns true if the callback returns truthy for any of them.\n",
    "\n",
    "#### Graph#every(function callback)\n",
    "\n",
    "Same behavior as `Array#every`: Evaluates `callback` over each Triple in the Graph, and returns true if the callback returns truthy for all of them.\n",
    "\n",
    "#### Graph#filter(function callback)\n",
    "\n",
    "Same behavior as `Array#filter`: Evaluates `callback` over each Triple in the Graph, and returns a Graph with the triples that evaluated truthy.\n",
    "\n",
    "\n",
    "\n",
    "### TurtleParser\n",
    "\n",
    "An implementation of [the Data parser API of RDF Interfaces](http://www.w3.org/TR/2011/WD-rdf-interfaces-20110510/#parsing-and-serializing-data).\n",
    "\n",
    "\tvar turtleParser = new rdf.TurtleParser(environment);\n",
    "\tturtleParser.parse(turtle, callback, base, filter, graph);\n",
    "\n",
    "Where:\n",
    "\n",
    "* `environment` is the optional RDF Environment that will resolve prefixes and create bnodes. If left out, a new, empty environment will be created. The enviornment is accessible from the `environment` property.\n",
    "* `turtle` is the document body to be processed.\n",
    "* `callback` is an optional function(Graph) to be called when processing is completed. This should normally be undefined, the parser is fully synchronous and processing is completed after the parse() function returns.\n",
    "* `base` is the base URI that relative URIs will be resolved against.\n",
    "* `filter` is an optional function(Triple) that will restrict which triples are added to the output graph. The function takes an input Triple and returns true to include the triple in the output graph.\n",
    "* `graph` is an optional Graph that triples will be add()ed to. If left out, a new IndexedGraph will be used.\n",
    "\n",
    "Since @base and @prefix directives modify the environment passed to TurtleParser, it's recommended a new TurtleParser be used for each document.\n",
    "\n",
    "### RDF Environment\n",
    "\n",
    "The RDF Environment is the context that bnodes are described relative to, and where namespaces/prefixes are defined. The API implements the [RDF Environment API of RDF Interfaces](http://www.w3.org/TR/2011/WD-rdf-interfaces-20110510/#rdf-environment-interfaces).\n",
    "\n",
    "The rdf module creates one such global environment by default, accessible at `rdf.environment`. Others are created where necessary, e.g. when parsing a Turtle document, and may be created using `new rdf.RDFEnvironment`.\n",
    "\n",
    "### Builtins\n",
    "\n",
    "Instead of using NamedNode, URIs by default are represented as plain strings. The RDFNode interface may be overloaded onto the standard String object using `rdf.setBuiltins()` or onto a particular prototype by using:\n",
    "\n",
    "\trdf.builtins.setObjectProperties(Object.prototype);\n",
    "\trdf.builtins.setStringProperties(String.prototype);\n",
    "\trdf.builtins.setArrayProperties(Array.prototype);\n",
    "\trdf.builtins.setBooleanProperties(Boolean.prototype);\n",
    "\trdf.builtins.setDateProperties(Date.prototype);\n",
    "\trdf.builtins.setNumberProperties(Number.prototype);\n",
    "\n",
    "as done in the setBuiltins function call in `lib/Builtins.js`.\n",
    "\n",
    "This extends the prototype definitions to act as native RDF types as well, for example:\n",
    "\n",
    "\ttrue.toNT();         // \"true\"^^<http://www.w3.org/2001/XMLSchema#boolean>\n",
    "\t(12 * 1.4).toNT();   // \"12.3\"^^<http://www.w3.org/2001/XMLSchema#decimal>\n",
    "\n",
    "### Object Builtins\n",
    "\n",
    "Any two values may be compared with each other using the `equals` method:\n",
    "\n",
    "\t(true).equals(rdf.environment.createLiteral('true', null, 'xsd:boolean'.resolve()) // true\n",
    "\n",
    "The node type may be queried with the `nodeType` method:\n",
    "\n",
    "\t\"_:bnode\".nodeType()\n",
    "\t\"http://example.com/\".nodeType()\n",
    "\n",
    "An object may be assigned a URI and parsed for triples with the `ref` method:\n",
    "\n",
    "\tvar structure =\n",
    "\t\t{ 'dbp:dateOfBirth': '1879-03-14'.tl('xsd:date')\n",
    "\t\t, 'foaf:depictation': 'http://en.wikipedia.org/wiki/Image:Albert_Einstein_Head.jpg'\n",
    "\t\t}.ref('dbr:Albert_Einstein');\n",
    "\n",
    "`ref` may be called without any argument to create a BlankNode.\n",
    "\n",
    "The resulting object has a number of methods:\n",
    "\n",
    "* `structure.n3()` returns a Turtle/N3 document close to the original structure.\n",
    "* `structure.toNT()` returns an N-Triples formatted list of triples.\n",
    "* `structure.graphify()` returns an IndexedGraph of triples.\n",
    "\n",
    "If multiple properties with the same predicate need to be added, put the multiple values in an Array:\n",
    "\n",
    "\t{a: ['foaf:Person']}.ref()\n",
    "\n",
    "An Array may also be used to make an RDF Collection (linked list), with the `toList` method:\n",
    "\n",
    "\t['rdfs:Class', 'rdfs:Resource'].toList()\n",
    "\n",
    "### String Builtins\n",
    "\n",
    "Strings may be used in place of a NamedNode and BlankNode, and have the same properties. There are the following methods:\n",
    "\n",
    "* `tl(type)` creates a typed literal out of the given value.\n",
    "* `l(lang)` creates a standard literal, with an optional language value.\n",
    "* `resolve()` resolves a CURIE/term to an IRI. Unlike the enviornment/profile method, this returns the original string if unsuccessful (for instance, if the string is already a URI).\n",
    "\n",
    "URIs passed to these functions may be CURIEs and are resolved with the global `rdf.environment`.\n",
    "\n",
    "## Tests\n",
    "\n",
    "A Mocha test suite is found in the tests directory. Run `make test` to evaluate the tests.\n",
    "\n",
    "## Index of Files\n",
    "\n",
    "* bin/turtle-equal.js - executable that determines of two Turtle files encode the same graph\n",
    "* bin/turtle-nt.js - executable that prints an N-Triples document of the triples found in the listed Turtle files\n",
    "* index.js - exposed module entry point\n",
    "* lib/ - additional library files imported by index.js\n",
    "* Makefile - Downloads and runs test suite\n",
    "* package.json - some metadata about this package\n",
    "* README.md - You're looking at it\n",
    "* test/*.test.js - Mocha test suite files\n",
    "* test/graph-test-lib.js - A generic test for a Graph interface\n",
    "* test/TurtleTests/ - Tests from the Turtle test suite are extracted here\n",
    "* UNLICENSE - Public Domain dedication"
   ]
  }
 ],
 "metadata": {
  "kernelspec": {
   "display_name": "Javascript (Node.js)",
   "language": "javascript",
   "name": "javascript"
  },
  "language_info": {
   "file_extension": ".js",
   "mimetype": "application/javascript",
   "name": "javascript",
   "version": "10.2.1"
  }
 },
 "nbformat": 4,
 "nbformat_minor": 2
}
